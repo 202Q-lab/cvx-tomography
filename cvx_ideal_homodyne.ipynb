{
 "cells": [
  {
   "cell_type": "code",
   "execution_count": 1,
   "id": "f202e87f-ea52-4187-a0f7-84688663d0d2",
   "metadata": {},
   "outputs": [],
   "source": [
    "import numpy as np\n",
    "import cvxpy as cp\n",
    "\n",
    "from qutip import coherent, ket2dm, Qobj, expect, fidelity, fock, fock_dm, displace, coherent_dm\n",
    "from qutip.visualization import plot_wigner_fock_distribution, plot_fock_distribution\n",
    "from qutip.wigner import qfunc\n",
    "\n",
    "from tqdm.auto import tqdm # progress bar\n",
    "\n",
    "import matplotlib.pyplot as plt\n",
    "\n",
    "from scipy.special import factorial, eval_hermite\n",
    "from scipy.integrate import quad\n",
    "from joblib import Parallel, delayed"
   ]
  },
  {
   "cell_type": "markdown",
   "id": "a9becdaf-05e4-4544-b2fa-80febefbf4d4",
   "metadata": {},
   "source": [
    "### Define the harmonic oscillator wavefunction\n",
    "To create homodyne POVM operators."
   ]
  },
  {
   "cell_type": "code",
   "execution_count": 2,
   "id": "18b6b6e2-ccc2-462e-93f0-c4370a500e84",
   "metadata": {},
   "outputs": [],
   "source": [
    "def wavefunction(x,n):\n",
    "    const = 1/(np.sqrt(2**n * factorial(n)) * (np.pi)**0.25 )\n",
    "    rest = const* np.exp(-x**2/2)\n",
    "    return float(rest*eval_hermite(n,x))"
   ]
  },
  {
   "cell_type": "markdown",
   "id": "7937c8b3-c3c1-4318-b806-ecdb0ec033de",
   "metadata": {},
   "source": [
    "### Set parameters\n",
    "Set measurement parameters: number of angles and bins.\n",
    "Also set Fock space cutoff."
   ]
  },
  {
   "cell_type": "code",
   "execution_count": 3,
   "id": "06b95cb7-32e9-4d0a-ab78-5e1f8d93463c",
   "metadata": {},
   "outputs": [],
   "source": [
    "L = 5 # bin limit\n",
    "Nbins = 20 # number of bins\n",
    "\n",
    "dx =  2*L/Nbins # bin width\n",
    "\n",
    "bins = [-L + i*dx for i in range(Nbins)] # list of bins\n",
    "\n",
    "nangles = 20 # number of angles\n",
    "thetas = np.linspace(0,np.pi, nangles) # list of all angles\n",
    "\n",
    "#######\n",
    "N = 5 # Fock space dimension"
   ]
  },
  {
   "cell_type": "markdown",
   "id": "2ad0d05c-bba6-4f5e-83de-1886f85dc62a",
   "metadata": {},
   "source": [
    "### Ideal state:"
   ]
  },
  {
   "cell_type": "code",
   "execution_count": null,
   "id": "bada5bc0-7d8f-4314-ad6b-503ea4d84f61",
   "metadata": {},
   "outputs": [],
   "source": [
    "rho_ideal = (fock(N,0) + fock(N,1)"
   ]
  },
  {
   "cell_type": "markdown",
   "id": "326a9c46-7e55-4411-b3bf-acc343a328f9",
   "metadata": {},
   "source": [
    "### Define homodyne measurement operators"
   ]
  },
  {
   "cell_type": "code",
   "execution_count": 4,
   "id": "42390685-1613-4e6a-a196-4ef8c262a773",
   "metadata": {},
   "outputs": [],
   "source": [
    "def get_Pis(theta, i):\n",
    "    Pi = np.zeros((N,N),dtype=np.complex128)\n",
    "    for m in range(N):\n",
    "        wave_m = lambda x : wavefunction(x, m)\n",
    "        for n in range(N):\n",
    "            wave_n = lambda x: wavefunction(x, n)            \n",
    "            func = lambda x: wave_m(x)*wave_n(x)\n",
    "            Pi[n,m] = quad(func, -L + i*dx, -L + (i+1)*dx)[0]*np.exp(-1j*(n-m)*theta)\n",
    "            \n",
    "    return Pi*2 #"
   ]
  },
  {
   "cell_type": "code",
   "execution_count": 5,
   "id": "0edadb70-4f3f-41bc-bd1d-92b6d43cdcb0",
   "metadata": {},
   "outputs": [
    {
     "name": "stderr",
     "output_type": "stream",
     "text": [
      "[Parallel(n_jobs=16)]: Using backend MultiprocessingBackend with 16 concurrent workers.\n",
      "[Parallel(n_jobs=16)]: Done  48 tasks      | elapsed:    0.1s\n",
      "[Parallel(n_jobs=16)]: Done 400 out of 400 | elapsed:    0.3s finished\n"
     ]
    }
   ],
   "source": [
    "Pis = Parallel(n_jobs=16, verbose=5, backend=\"multiprocessing\")(delayed(get_Pis)(theta,i) for theta in thetas for i in range(Nbins))"
   ]
  },
  {
   "cell_type": "markdown",
   "id": "cf5fdb87-fe90-441a-9e31-a2ba18961c82",
   "metadata": {
    "tags": []
   },
   "source": [
    "### Construct the operator basis: Fock basis\n",
    "The list `basis_dms` contains all $\\Omega_k$"
   ]
  },
  {
   "cell_type": "code",
   "execution_count": 6,
   "id": "0c7b0a41-125d-4795-a33a-9c1faa8aba64",
   "metadata": {},
   "outputs": [],
   "source": [
    "# construct vectors\n",
    "basis_vectors = []\n",
    "for i in range(N):\n",
    "    vector = fock(N, i)\n",
    "    basis_vectors.append(np.real(vector.full()))\n",
    "    \n",
    "# construct operators\n",
    "basis_dms = []\n",
    "for vector1 in basis_vectors:\n",
    "    for vector2 in basis_vectors:\n",
    "        dm = np.outer(vector1, vector2)\n",
    "        basis_dms.append(dm)"
   ]
  },
  {
   "cell_type": "markdown",
   "id": "8efec541-d848-4c22-990d-344da18e28b1",
   "metadata": {
    "tags": []
   },
   "source": [
    "### Construct the matrix A in $A\\vec\\rho=\\vec b$\n",
    "From `Pis` and `basis_dms`."
   ]
  },
  {
   "cell_type": "code",
   "execution_count": 7,
   "id": "0772556a-738d-4e4b-89c3-0d6e42966389",
   "metadata": {},
   "outputs": [
    {
     "name": "stderr",
     "output_type": "stream",
     "text": [
      "[Parallel(n_jobs=16)]: Using backend MultiprocessingBackend with 16 concurrent workers.\n",
      "[Parallel(n_jobs=16)]: Done  48 tasks      | elapsed:    0.0s\n",
      "[Parallel(n_jobs=16)]: Done 512 tasks      | elapsed:    0.1s\n",
      "[Parallel(n_jobs=16)]: Done 8160 tasks      | elapsed:    0.2s\n",
      "[Parallel(n_jobs=16)]: Done 10000 out of 10000 | elapsed:    0.3s finished\n"
     ]
    }
   ],
   "source": [
    "def func(index, a):\n",
    "    return np.trace(Pis[index[0]] @ basis_dms[index[1]])\n",
    "\n",
    "A = np.zeros((len(Pis), N*N), dtype=np.complex64)\n",
    "A_p = Parallel(n_jobs=16, verbose=5, backend=\"multiprocessing\")(delayed(func)(idx,a) for idx, a in np.ndenumerate(A))\n",
    "\n",
    "A = np.reshape(A_p, (len(Pis), N*N))"
   ]
  },
  {
   "cell_type": "markdown",
   "id": "16989e5e-5ff8-4689-880c-1dea8ece1df7",
   "metadata": {},
   "source": [
    "### Load homodyne data into $\\vec b$"
   ]
  },
  {
   "cell_type": "code",
   "execution_count": 8,
   "id": "7e8e0900-4b39-4ab9-85f4-4de247fa27d7",
   "metadata": {},
   "outputs": [],
   "source": [
    "b_all = []\n",
    "for idx, theta in enumerate(thetas):\n",
    "    file = 'simulated_homodyne_currents_eta1.0/homodyne_current' + str(idx+1) + '_eta1.00.dat'\n",
    "    current = np.loadtxt(file)\n",
    "    #fig,ax=plt.subplots()\n",
    "    #counts, bins_file, _ = plt.hist(current,Nbins,density=1, range=[-L,L], edgecolor='k')\n",
    "    counts, bins_file = np.histogram(current,Nbins,density=1, range=[-L,L]);\n",
    "\n",
    "    b_all.append(counts)\n",
    "    \n",
    "b = np.concatenate([array for array in b_all])"
   ]
  },
  {
   "cell_type": "markdown",
   "id": "ed02468b-ecea-4978-8d6a-681ef8578ce0",
   "metadata": {},
   "source": [
    "## Convex optimization"
   ]
  },
  {
   "cell_type": "markdown",
   "id": "f5aa1e46-2523-4c02-94f9-962cef142807",
   "metadata": {},
   "source": [
    "Define the unknown state as a $N\\times N$ Hermitian matrix"
   ]
  },
  {
   "cell_type": "code",
   "execution_count": 9,
   "id": "e33ebe3e-fb3e-48d4-95ab-f1e89abfe9e2",
   "metadata": {},
   "outputs": [],
   "source": [
    "X = cp.Variable((N,N), hermitian=True)"
   ]
  },
  {
   "cell_type": "markdown",
   "id": "a85969a2-9550-498c-8d43-0a05dd8e7c79",
   "metadata": {},
   "source": [
    "Set the cost function to $\\|A\\vec\\rho - \\vec b\\|_2$ where the vectorized state is given by `cp.vec(X)`."
   ]
  },
  {
   "cell_type": "code",
   "execution_count": 10,
   "id": "ae4694d9-b137-4ebf-bab2-44f95793a034",
   "metadata": {},
   "outputs": [
    {
     "name": "stdout",
     "output_type": "stream",
     "text": [
      "WARN: A->p (column pointers) not strictly increasing, column 416 empty\n",
      "WARN: A->p (column pointers) not strictly increasing, column 422 empty\n",
      "WARN: A->p (column pointers) not strictly increasing, column 428 empty\n",
      "WARN: A->p (column pointers) not strictly increasing, column 434 empty\n",
      "WARN: A->p (column pointers) not strictly increasing, column 440 empty\n"
     ]
    },
    {
     "ename": "NameError",
     "evalue": "name 'ideal_rho' is not defined",
     "output_type": "error",
     "traceback": [
      "\u001b[0;31m---------------------------------------------------------------------------\u001b[0m",
      "\u001b[0;31mNameError\u001b[0m                                 Traceback (most recent call last)",
      "\u001b[0;32m/tmp/ipykernel_2124650/4137888235.py\u001b[0m in \u001b[0;36m<module>\u001b[0;34m\u001b[0m\n\u001b[1;32m     19\u001b[0m \u001b[0max\u001b[0m\u001b[0;34m[\u001b[0m\u001b[0;36m0\u001b[0m\u001b[0;34m]\u001b[0m\u001b[0;34m.\u001b[0m\u001b[0mset_title\u001b[0m\u001b[0;34m(\u001b[0m\u001b[0;34m\"Reconstructed state\"\u001b[0m\u001b[0;34m)\u001b[0m\u001b[0;34m\u001b[0m\u001b[0;34m\u001b[0m\u001b[0m\n\u001b[1;32m     20\u001b[0m \u001b[0;34m\u001b[0m\u001b[0m\n\u001b[0;32m---> 21\u001b[0;31m \u001b[0mf\u001b[0m\u001b[0;34m=\u001b[0m\u001b[0mfidelity\u001b[0m\u001b[0;34m(\u001b[0m\u001b[0mreconstructed_rho\u001b[0m\u001b[0;34m,\u001b[0m \u001b[0mideal_rho\u001b[0m\u001b[0;34m)\u001b[0m\u001b[0;34m**\u001b[0m\u001b[0;36m2\u001b[0m\u001b[0;34m\u001b[0m\u001b[0;34m\u001b[0m\u001b[0m\n\u001b[0m\u001b[1;32m     22\u001b[0m \u001b[0max\u001b[0m\u001b[0;34m[\u001b[0m\u001b[0;36m1\u001b[0m\u001b[0;34m]\u001b[0m\u001b[0;34m.\u001b[0m\u001b[0mset_title\u001b[0m\u001b[0;34m(\u001b[0m\u001b[0;34m\"Fidelity %.3f\"\u001b[0m\u001b[0;34m%\u001b[0m\u001b[0;34m(\u001b[0m\u001b[0mf\u001b[0m\u001b[0;34m)\u001b[0m\u001b[0;34m)\u001b[0m\u001b[0;34m\u001b[0m\u001b[0;34m\u001b[0m\u001b[0m\n",
      "\u001b[0;31mNameError\u001b[0m: name 'ideal_rho' is not defined"
     ]
    },
    {
     "data": {
      "image/png": "[encoded data removed]",
      "text/plain": [
       "<Figure size 576x288 with 2 Axes>"
      ]
     },
     "metadata": {
      "needs_background": "light"
     },
     "output_type": "display_data"
    }
   ],
   "source": [
    "cost = cp.norm(A @ cp.vec(X) - b, 2) \n",
    "\n",
    "#Set the trace constraint and positive-semidefinite constraint, respectively.\n",
    "constraints = [cp.trace(X) == 1, X >> 0 ]\n",
    "\n",
    "#Set up and solve the problem!\n",
    "\n",
    "prob = cp.Problem(cp.Minimize(cost), constraints)\n",
    "prob.solve(verbose=False)\n",
    "\n",
    "# Assign the optimized state X to a Qobj.\n",
    "reconstructed_rho = Qobj(X.value)\n",
    "\n",
    "### Visualize results\n",
    "\n",
    "#Plot the reconstructed state \n",
    "alpha_max = 5\n",
    "fig, ax = plot_wigner_fock_distribution(reconstructed_rho, alpha_max=alpha_max)\n",
    "ax[0].set_title(\"Reconstructed state\")\n",
    "\n",
    "f=fidelity(reconstructed_rho, ideal_rho)**2\n",
    "ax[1].set_title(\"Fidelity %.3f\"%(f))"
   ]
  },
  {
   "cell_type": "markdown",
   "id": "3ced0e81-b7d1-4acc-b3f7-1e49a4b97cfe",
   "metadata": {},
   "source": [
    "### Fidelity to ideal superposition of vacuum and 1-photon"
   ]
  },
  {
   "cell_type": "code",
   "execution_count": null,
   "id": "e0c1e0ff-e1f6-4026-99e5-6a239dddfa78",
   "metadata": {},
   "outputs": [],
   "source": [
    "ideal_rho = (fock(N,0) + fock(N,2)).unit()\n",
    "\n",
    "fidelity(reconstructed_rho, ideal_rho)"
   ]
  }
 ],
 "metadata": {
  "kernelspec": {
   "display_name": "Python 3 (ipykernel)",
   "language": "python",
   "name": "python3"
  },
  "language_info": {
   "codemirror_mode": {
    "name": "ipython",
    "version": 3
   },
   "file_extension": ".py",
   "mimetype": "text/x-python",
   "name": "python",
   "nbconvert_exporter": "python",
   "pygments_lexer": "ipython3",
   "version": "3.9.5"
  },
  "widgets": {
   "application/vnd.jupyter.widget-state+json": {
    "state": {},
    "version_major": 2,
    "version_minor": 0
   }
  }
 },
 "nbformat": 4,
 "nbformat_minor": 5
}
