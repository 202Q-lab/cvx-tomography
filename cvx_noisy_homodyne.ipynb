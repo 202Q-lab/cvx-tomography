{
 "cells": [
  {
   "cell_type": "code",
   "execution_count": 21,
   "id": "f202e87f-ea52-4187-a0f7-84688663d0d2",
   "metadata": {},
   "outputs": [],
   "source": [
    "import numpy as np\n",
    "\n",
    "import cvxpy as cp\n",
    "\n",
    "from qutip import coherent, ket2dm, Qobj, expect, fidelity, fock, fock_dm, displace, coherent_dm\n",
    "from qutip.visualization import plot_wigner_fock_distribution, plot_fock_distribution\n",
    "from qutip.wigner import qfunc\n",
    "\n",
    "from tqdm.auto import tqdm # progress bar\n",
    "\n",
    "import matplotlib.pyplot as plt\n",
    "from matplotlib import colors\n",
    "\n",
    "import mpmath as mp\n",
    "from scipy.special import factorial, eval_hermite, comb\n",
    "from scipy.integrate import quad\n",
    "\n",
    "from joblib import Parallel, delayed"
   ]
  },
  {
   "cell_type": "markdown",
   "id": "a9becdaf-05e4-4544-b2fa-80febefbf4d4",
   "metadata": {},
   "source": [
    "### Define the harmonic oscillator wavefunction\n",
    "To create homodyne POVM operators."
   ]
  },
  {
   "cell_type": "code",
   "execution_count": 22,
   "id": "18b6b6e2-ccc2-462e-93f0-c4370a500e84",
   "metadata": {},
   "outputs": [],
   "source": [
    "def wavefunction(x,n):\n",
    "    const = 1/(np.sqrt(2**n * factorial(n)) * (np.pi)**0.25 )\n",
    "    rest = const* np.exp(-x**2/2)\n",
    "    return float(rest*eval_hermite(n,x))"
   ]
  },
  {
   "cell_type": "markdown",
   "id": "7937c8b3-c3c1-4318-b806-ecdb0ec033de",
   "metadata": {},
   "source": [
    "### Set parameters\n",
    "Set measurement parameters: number of angles and bins.\n",
    "Also set Fock space cutoff."
   ]
  },
  {
   "cell_type": "code",
   "execution_count": 23,
   "id": "06b95cb7-32e9-4d0a-ab78-5e1f8d93463c",
   "metadata": {},
   "outputs": [],
   "source": [
    "eta = 0.5 # measurement efficiency\n",
    "\n",
    "L = 5 # bin limit\n",
    "Nbins = 20 # number of bins\n",
    "\n",
    "dx =  2*L/Nbins # bin width\n",
    "\n",
    "bins = [-L + i*dx for i in range(Nbins)] # list of bins\n",
    "\n",
    "nangles = 20 # number of angles\n",
    "thetas = np.linspace(0,np.pi, nangles) # list of all angles\n",
    "\n",
    "#######\n",
    "N = 25 # need some additional dimensions to properly construct the noise-compensated operators\n",
    "N_cut = 8 # final Fock space dimension"
   ]
  },
  {
   "cell_type": "markdown",
   "id": "326a9c46-7e55-4411-b3bf-acc343a328f9",
   "metadata": {},
   "source": [
    "### Define homodyne measurement operators\n",
    "Without noise."
   ]
  },
  {
   "cell_type": "code",
   "execution_count": 24,
   "id": "98716e8a-3ad2-4f58-9cf2-0132a6ce771d",
   "metadata": {},
   "outputs": [],
   "source": [
    "def get_Pis(theta, i):\n",
    "    Pi = np.zeros((N,N),dtype=np.complex128)\n",
    "    for m in range(N):\n",
    "        wave_m = lambda x : wavefunction(x, m)\n",
    "        for n in range(N):\n",
    "            wave_n = lambda x: wavefunction(x, n)            \n",
    "            func = lambda x: wave_m(x)*wave_n(x)\n",
    "            Pi[n,m] = quad(func, -L + i*dx, -L + (i+1)*dx)[0]*np.exp(-1j*(n-m)*theta)\n",
    "            \n",
    "    return Pi*2"
   ]
  },
  {
   "cell_type": "code",
   "execution_count": 25,
   "id": "d5946ff6-a159-4abf-87f4-2b2766c1b524",
   "metadata": {},
   "outputs": [
    {
     "name": "stderr",
     "output_type": "stream",
     "text": [
      "[Parallel(n_jobs=16)]: Using backend MultiprocessingBackend with 16 concurrent workers.\n",
      "[Parallel(n_jobs=16)]: Done  48 tasks      | elapsed:    0.6s\n",
      "[Parallel(n_jobs=16)]: Done 228 tasks      | elapsed:    2.4s\n",
      "[Parallel(n_jobs=16)]: Done 400 out of 400 | elapsed:    3.9s finished\n"
     ]
    }
   ],
   "source": [
    "Pis = Parallel(n_jobs=16, verbose=5, backend=\"multiprocessing\")(delayed(get_Pis)(theta,i) for theta in thetas for i in range(Nbins))"
   ]
  },
  {
   "cell_type": "markdown",
   "id": "cf5fdb87-fe90-441a-9e31-a2ba18961c82",
   "metadata": {
    "tags": []
   },
   "source": [
    "### Construct the operator basis: Fock basis\n",
    "The list `basis_dms` contains all $\\Omega_k$"
   ]
  },
  {
   "cell_type": "code",
   "execution_count": 26,
   "id": "0c7b0a41-125d-4795-a33a-9c1faa8aba64",
   "metadata": {},
   "outputs": [],
   "source": [
    "def get_basis_vectors(N):\n",
    "    # construct vectors\n",
    "    basis_vectors = []\n",
    "    for i in range(N):\n",
    "        vector = fock(N, i)\n",
    "        basis_vectors.append(np.real(vector.full()))\n",
    "    \n",
    "    return basis_vectors\n",
    "        \n",
    "def get_basis_dms(N, basis_vectors):    \n",
    "    # construct operators\n",
    "    basis_dms = []\n",
    "    for vector1 in basis_vectors:\n",
    "        for vector2 in basis_vectors:\n",
    "            dm = np.outer(vector1, vector2)\n",
    "            basis_dms.append(dm)\n",
    "            \n",
    "    return basis_dms"
   ]
  },
  {
   "cell_type": "code",
   "execution_count": 27,
   "id": "754d9740-8079-4c49-99c6-636f56b82e06",
   "metadata": {},
   "outputs": [],
   "source": [
    "basis_vectors  = get_basis_vectors(N) # needed for the adjusted operators\n",
    "basis_dms = get_basis_dms(N, basis_vectors)"
   ]
  },
  {
   "cell_type": "markdown",
   "id": "7426adc1-8eea-4208-8f8a-365ade580166",
   "metadata": {},
   "source": [
    "### Adjusted measurement operators \n",
    "Compensated for noise or inefficient detection."
   ]
  },
  {
   "cell_type": "code",
   "execution_count": 28,
   "id": "f5f32fb9-3813-4487-bb23-6aa54736fd95",
   "metadata": {},
   "outputs": [],
   "source": [
    "def B(n,k, eta):\n",
    "    return np.sqrt(comb(n+k,n) * eta**n * (1-eta)**k)"
   ]
  },
  {
   "cell_type": "code",
   "execution_count": 29,
   "id": "4951d05a-655c-4536-afd3-fe714387f17a",
   "metadata": {},
   "outputs": [],
   "source": [
    "def get_adjusted_op(i,j):\n",
    "        op = np.zeros((N,N), dtype=np.complex64)\n",
    "        for n in range(N):\n",
    "            for m in range(N):\n",
    "                for k in range(N-max(m,n)):\n",
    "                    op += B(m,k,eta)*B(n,k,eta)*Pis[i*Nbins + j][m,n] * np.outer(basis_vectors[n+k], basis_vectors[m+k])#\n",
    "        return op"
   ]
  },
  {
   "cell_type": "code",
   "execution_count": 30,
   "id": "737bf1fd-c53f-4da0-9127-4625287f89d3",
   "metadata": {},
   "outputs": [
    {
     "name": "stderr",
     "output_type": "stream",
     "text": [
      "[Parallel(n_jobs=16)]: Using backend MultiprocessingBackend with 16 concurrent workers.\n",
      "[Parallel(n_jobs=16)]: Done  48 tasks      | elapsed:    0.7s\n",
      "[Parallel(n_jobs=16)]: Done 228 tasks      | elapsed:    2.6s\n",
      "[Parallel(n_jobs=16)]: Done 400 out of 400 | elapsed:    4.2s finished\n"
     ]
    }
   ],
   "source": [
    "op_list = Parallel(n_jobs=16, verbose=5, backend=\"multiprocessing\")(delayed(get_adjusted_op)(i,j) for i in range(nangles) for j in range(Nbins))"
   ]
  },
  {
   "cell_type": "markdown",
   "id": "16989e5e-5ff8-4689-880c-1dea8ece1df7",
   "metadata": {},
   "source": [
    "### Load homodyne data into $\\vec b$"
   ]
  },
  {
   "cell_type": "code",
   "execution_count": 31,
   "id": "7e8e0900-4b39-4ab9-85f4-4de247fa27d7",
   "metadata": {},
   "outputs": [],
   "source": [
    "b_all = []\n",
    "for idx, theta in enumerate(thetas):\n",
    "    file = 'simulated_homodyne_currents_eta0.5/homodyne_current' + str(idx+1) +'_eta'+str(eta)+ '0.dat'\n",
    "    current = np.loadtxt(file)\n",
    "    counts, bins_file = np.histogram(current,Nbins,density=1, range=[-L,L]);\n",
    "\n",
    "    b_all.append(counts)\n",
    "    \n",
    "b = np.concatenate([array for array in b_all])"
   ]
  },
  {
   "cell_type": "markdown",
   "id": "75efc5c2-514f-4a8d-9742-e702d0c19560",
   "metadata": {
    "tags": []
   },
   "source": [
    "### Construct the matrix A in $A\\vec\\rho=\\vec b$"
   ]
  },
  {
   "cell_type": "code",
   "execution_count": 32,
   "id": "1b34d13a-b152-440f-a71a-223571a2a56d",
   "metadata": {},
   "outputs": [],
   "source": [
    "op_list_cut = [op[:N_cut,:N_cut] for op in op_list]\n",
    "\n",
    "basis_vectors_cut = get_basis_vectors(N_cut)\n",
    "basis_dms_cut = get_basis_dms(N_cut, basis_vectors_cut)"
   ]
  },
  {
   "cell_type": "code",
   "execution_count": 33,
   "id": "d38675ac-652b-4f81-abdd-727e6d1a9da2",
   "metadata": {},
   "outputs": [
    {
     "data": {
      "application/vnd.jupyter.widget-view+json": {
       "model_id": "84d3e0ced6a84335a29c068748b6304a",
       "version_major": 2,
       "version_minor": 0
      },
      "text/plain": [
       "0it [00:00, ?it/s]"
      ]
     },
     "metadata": {},
     "output_type": "display_data"
    }
   ],
   "source": [
    "A = np.zeros((len(Pis), N_cut*N_cut), dtype=np.complex64)\n",
    "\n",
    "for index, a in tqdm(np.ndenumerate(A)):\n",
    "    A[index] = np.trace(op_list[index[0]][:N_cut,:N_cut] @ basis_dms_cut[index[1]]);"
   ]
  },
  {
   "cell_type": "markdown",
   "id": "ed02468b-ecea-4978-8d6a-681ef8578ce0",
   "metadata": {},
   "source": [
    "## Convex optimization"
   ]
  },
  {
   "cell_type": "markdown",
   "id": "f5aa1e46-2523-4c02-94f9-962cef142807",
   "metadata": {},
   "source": [
    "Define the unknown state as a $N\\times N$ Hermitian matrix"
   ]
  },
  {
   "cell_type": "code",
   "execution_count": 34,
   "id": "e33ebe3e-fb3e-48d4-95ab-f1e89abfe9e2",
   "metadata": {},
   "outputs": [],
   "source": [
    "X = cp.Variable((N_cut,N_cut), hermitian=True)"
   ]
  },
  {
   "cell_type": "markdown",
   "id": "a85969a2-9550-498c-8d43-0a05dd8e7c79",
   "metadata": {},
   "source": [
    "Set the cost function to $\\|A\\vec\\rho - \\vec b\\|_2$ where the vectorized state is given by `cp.vec(X)`."
   ]
  },
  {
   "cell_type": "code",
   "execution_count": 35,
   "id": "15d1fe9a-0cec-41a8-8dec-c6534dec1299",
   "metadata": {},
   "outputs": [
    {
     "name": "stdout",
     "output_type": "stream",
     "text": [
      "WARN: A->p (column pointers) not strictly increasing, column 437 empty\n",
      "WARN: A->p (column pointers) not strictly increasing, column 446 empty\n",
      "WARN: A->p (column pointers) not strictly increasing, column 455 empty\n",
      "WARN: A->p (column pointers) not strictly increasing, column 464 empty\n",
      "WARN: A->p (column pointers) not strictly increasing, column 473 empty\n",
      "WARN: A->p (column pointers) not strictly increasing, column 482 empty\n",
      "WARN: A->p (column pointers) not strictly increasing, column 491 empty\n",
      "WARN: A->p (column pointers) not strictly increasing, column 500 empty\n"
     ]
    },
    {
     "name": "stderr",
     "output_type": "stream",
     "text": [
      "/home/ingrid/.pyenv/versions/3.9.5/envs/qctrl39env/lib/python3.9/site-packages/cvxpy/interface/numpy_interface/ndarray_interface.py:53: ComplexWarning: Casting complex values to real discards the imaginary part\n",
      "  return result.astype(numpy.float64)\n"
     ]
    }
   ],
   "source": [
    "cost = cp.norm(A @ cp.vec(X) - b, 2) \n",
    "\n",
    "#Set the trace constraint and positive-semidefinite constraint, respectively.\n",
    "constraints = [cp.trace(X) == 1, X >> 0 ]\n",
    "\n",
    "#Set up and solve the problem!\n",
    "\n",
    "prob = cp.Problem(cp.Minimize(cost), constraints)\n",
    "prob.solve(verbose=False)\n",
    "\n",
    "# Assign the optimized state X to a Qobj.\n",
    "reconstructed_rho = Qobj(X.value)"
   ]
  },
  {
   "cell_type": "markdown",
   "id": "e34d004a-15b0-4251-b448-ed7adc52c119",
   "metadata": {},
   "source": [
    "### Visualize results\n",
    "Inefficiency was $\\eta=0.5$."
   ]
  },
  {
   "cell_type": "code",
   "execution_count": 36,
   "id": "837ceb17-63af-4b36-840d-85c0662f8042",
   "metadata": {},
   "outputs": [
    {
     "data": {
      "image/png": "[encoded data removed]",
      "text/plain": [
       "<Figure size 576x288 with 2 Axes>"
      ]
     },
     "metadata": {
      "needs_background": "light"
     },
     "output_type": "display_data"
    }
   ],
   "source": [
    "#Plot the reconstructed state \n",
    "alpha_max = 5\n",
    "fig, ax = plot_wigner_fock_distribution(reconstructed_rho, alpha_max=alpha_max)\n",
    "ax[0].set_title(\"Reconstructed state\");"
   ]
  },
  {
   "cell_type": "markdown",
   "id": "68ceb735-6cc2-4793-87f5-92e7f0657b41",
   "metadata": {},
   "source": [
    "### Comparison to ideal state"
   ]
  },
  {
   "cell_type": "code",
   "execution_count": 41,
   "id": "1225215b-7df9-4b0c-87f5-b73f123b36df",
   "metadata": {},
   "outputs": [
    {
     "data": {
      "image/png": "[encoded data removed]",
      "text/plain": [
       "<Figure size 576x288 with 2 Axes>"
      ]
     },
     "metadata": {
      "needs_background": "light"
     },
     "output_type": "display_data"
    }
   ],
   "source": [
    "rho = (fock(N_cut,0) + fock(N_cut,2)).unit()\n",
    "\n",
    "fig, ax = plot_wigner_fock_distribution(rho, alpha_max=alpha_max)\n",
    "ax[0].set_title(\"Ideal state\");"
   ]
  },
  {
   "cell_type": "code",
   "execution_count": 38,
   "id": "eea10940-ff53-4b54-af87-87536f249004",
   "metadata": {},
   "outputs": [
    {
     "name": "stdout",
     "output_type": "stream",
     "text": [
      "Fidelity 0.98\n"
     ]
    }
   ],
   "source": [
    "print(\"Fidelity {:.4}\".format(fidelity(reconstructed_rho, rho)**2));"
   ]
  },
  {
   "cell_type": "code",
   "execution_count": null,
   "id": "66895e4d-0038-48ce-be77-10a5c3643909",
   "metadata": {},
   "outputs": [],
   "source": []
  }
 ],
 "metadata": {
  "kernelspec": {
   "display_name": "Python 3 (ipykernel)",
   "language": "python",
   "name": "python3"
  },
  "language_info": {
   "codemirror_mode": {
    "name": "ipython",
    "version": 3
   },
   "file_extension": ".py",
   "mimetype": "text/x-python",
   "name": "python",
   "nbconvert_exporter": "python",
   "pygments_lexer": "ipython3",
   "version": "3.9.5"
  },
  "widgets": {
   "application/vnd.jupyter.widget-state+json": {
    "state": {
     "21a7c7a1090f4896b44f5cc17fd6c22f": {
      "model_module": "@jupyter-widgets/controls",
      "model_module_version": "1.5.0",
      "model_name": "DescriptionStyleModel",
      "state": {
       "description_width": ""
      }
     },
     "2a04c0a424cf4e6f81375b4159bca901": {
      "model_module": "@jupyter-widgets/controls",
      "model_module_version": "1.5.0",
      "model_name": "FloatProgressModel",
      "state": {
       "bar_style": "success",
       "layout": "IPY_MODEL_92045a3dc9114f8f899fca9e63c8f9ae",
       "max": 1,
       "style": "IPY_MODEL_e06ec84444744aea9ce5175e9f4f3c36",
       "value": 1
      }
     },
     "430880e11ad04319b3965414dc6a5e40": {
      "model_module": "@jupyter-widgets/controls",
      "model_module_version": "1.5.0",
      "model_name": "HTMLModel",
      "state": {
       "layout": "IPY_MODEL_8aee2c9d4d2a458dbf51cf66ad31fd74",
       "style": "IPY_MODEL_f67664293bf946d08f23d504525a4361",
       "value": " 25600/? [00:00&lt;00:00, 75318.25it/s]"
      }
     },
     "695da3ba69f64e8e9d1eb593406928a0": {
      "model_module": "@jupyter-widgets/base",
      "model_module_version": "1.2.0",
      "model_name": "LayoutModel",
      "state": {}
     },
     "6f45747d186a4e7cb66aea98e55fc5e1": {
      "model_module": "@jupyter-widgets/base",
      "model_module_version": "1.2.0",
      "model_name": "LayoutModel",
      "state": {
       "width": "20px"
      }
     },
     "7e9cacbdd07f426e86b91af817e3a64f": {
      "model_module": "@jupyter-widgets/controls",
      "model_module_version": "1.5.0",
      "model_name": "HTMLModel",
      "state": {
       "layout": "IPY_MODEL_fb8fafa7f83a4e36a43f0158a599ec85",
       "style": "IPY_MODEL_ce6af4b4ae3d4fd194dc62f44dc5c050"
      }
     },
     "84d3e0ced6a84335a29c068748b6304a": {
      "model_module": "@jupyter-widgets/controls",
      "model_module_version": "1.5.0",
      "model_name": "HBoxModel",
      "state": {
       "children": [
        "IPY_MODEL_e74b83058db54bb39c9057d5ecfa7242",
        "IPY_MODEL_2a04c0a424cf4e6f81375b4159bca901",
        "IPY_MODEL_df126069384842859d9953d37bbeef4a"
       ],
       "layout": "IPY_MODEL_a6892564195d4dcb8c859259ebd03e7c"
      }
     },
     "88da059cbf744779b6c455fbb0191ad9": {
      "model_module": "@jupyter-widgets/controls",
      "model_module_version": "1.5.0",
      "model_name": "FloatProgressModel",
      "state": {
       "bar_style": "success",
       "layout": "IPY_MODEL_6f45747d186a4e7cb66aea98e55fc5e1",
       "max": 1,
       "style": "IPY_MODEL_eb4eb20398a44422ae758a9b9370392c",
       "value": 1
      }
     },
     "8aee2c9d4d2a458dbf51cf66ad31fd74": {
      "model_module": "@jupyter-widgets/base",
      "model_module_version": "1.2.0",
      "model_name": "LayoutModel",
      "state": {}
     },
     "92045a3dc9114f8f899fca9e63c8f9ae": {
      "model_module": "@jupyter-widgets/base",
      "model_module_version": "1.2.0",
      "model_name": "LayoutModel",
      "state": {
       "width": "20px"
      }
     },
     "a6892564195d4dcb8c859259ebd03e7c": {
      "model_module": "@jupyter-widgets/base",
      "model_module_version": "1.2.0",
      "model_name": "LayoutModel",
      "state": {}
     },
     "ae27cf516bed4c5683e63707900c9940": {
      "model_module": "@jupyter-widgets/controls",
      "model_module_version": "1.5.0",
      "model_name": "HBoxModel",
      "state": {
       "children": [
        "IPY_MODEL_7e9cacbdd07f426e86b91af817e3a64f",
        "IPY_MODEL_88da059cbf744779b6c455fbb0191ad9",
        "IPY_MODEL_430880e11ad04319b3965414dc6a5e40"
       ],
       "layout": "IPY_MODEL_ff1b9c8cdab34087b6edf2b472875087"
      }
     },
     "aeb99bb702cf47119da6ae385b8dc31c": {
      "model_module": "@jupyter-widgets/controls",
      "model_module_version": "1.5.0",
      "model_name": "DescriptionStyleModel",
      "state": {
       "description_width": ""
      }
     },
     "ce6af4b4ae3d4fd194dc62f44dc5c050": {
      "model_module": "@jupyter-widgets/controls",
      "model_module_version": "1.5.0",
      "model_name": "DescriptionStyleModel",
      "state": {
       "description_width": ""
      }
     },
     "df126069384842859d9953d37bbeef4a": {
      "model_module": "@jupyter-widgets/controls",
      "model_module_version": "1.5.0",
      "model_name": "HTMLModel",
      "state": {
       "layout": "IPY_MODEL_e20d21bb764845a69bb019483c0f25e3",
       "style": "IPY_MODEL_aeb99bb702cf47119da6ae385b8dc31c",
       "value": " 25600/? [00:00&lt;00:00, 72836.81it/s]"
      }
     },
     "e06ec84444744aea9ce5175e9f4f3c36": {
      "model_module": "@jupyter-widgets/controls",
      "model_module_version": "1.5.0",
      "model_name": "ProgressStyleModel",
      "state": {
       "description_width": ""
      }
     },
     "e20d21bb764845a69bb019483c0f25e3": {
      "model_module": "@jupyter-widgets/base",
      "model_module_version": "1.2.0",
      "model_name": "LayoutModel",
      "state": {}
     },
     "e74b83058db54bb39c9057d5ecfa7242": {
      "model_module": "@jupyter-widgets/controls",
      "model_module_version": "1.5.0",
      "model_name": "HTMLModel",
      "state": {
       "layout": "IPY_MODEL_695da3ba69f64e8e9d1eb593406928a0",
       "style": "IPY_MODEL_21a7c7a1090f4896b44f5cc17fd6c22f"
      }
     },
     "eb4eb20398a44422ae758a9b9370392c": {
      "model_module": "@jupyter-widgets/controls",
      "model_module_version": "1.5.0",
      "model_name": "ProgressStyleModel",
      "state": {
       "description_width": ""
      }
     },
     "f67664293bf946d08f23d504525a4361": {
      "model_module": "@jupyter-widgets/controls",
      "model_module_version": "1.5.0",
      "model_name": "DescriptionStyleModel",
      "state": {
       "description_width": ""
      }
     },
     "fb8fafa7f83a4e36a43f0158a599ec85": {
      "model_module": "@jupyter-widgets/base",
      "model_module_version": "1.2.0",
      "model_name": "LayoutModel",
      "state": {}
     },
     "ff1b9c8cdab34087b6edf2b472875087": {
      "model_module": "@jupyter-widgets/base",
      "model_module_version": "1.2.0",
      "model_name": "LayoutModel",
      "state": {}
     }
    },
    "version_major": 2,
    "version_minor": 0
   }
  }
 },
 "nbformat": 4,
 "nbformat_minor": 5
}
