{
 "cells": [
  {
   "cell_type": "code",
   "execution_count": 91,
   "id": "aff8456c-66bd-4cd2-a749-8caf5747fce6",
   "metadata": {},
   "outputs": [],
   "source": [
    "import numpy as np\n",
    "from qutip import *\n",
    "import cvxpy as cp\n",
    "\n",
    "import matplotlib.pyplot as plt\n",
    "from joblib import Parallel, delayed\n",
    "\n",
    "from scipy.signal import convolve"
   ]
  },
  {
   "cell_type": "code",
   "execution_count": 109,
   "id": "0d819e13-0c19-4cad-bc8b-d3e9291bb1e7",
   "metadata": {},
   "outputs": [],
   "source": [
    "# Fock space dimension\n",
    "N=15\n",
    "\n",
    "# define limit ofphase space grid\n",
    "alpha_max=6\n",
    "\n",
    "# number of grid points in one direction\n",
    "ngrid = 15\n",
    "\n",
    "# grid vectors in x- and y-direction\n",
    "xvec = np.linspace(-alpha_max, alpha_max, ngrid)\n",
    "yvec = xvec"
   ]
  },
  {
   "cell_type": "markdown",
   "id": "072ba46b-5165-4ff2-8c7b-d5127db6f480",
   "metadata": {},
   "source": [
    "### Q-function of cat state"
   ]
  },
  {
   "cell_type": "code",
   "execution_count": 110,
   "id": "15b0f95a-2dbb-41ca-837b-2326e46907ca",
   "metadata": {},
   "outputs": [
    {
     "data": {
      "image/png": "[encoded data removed]",
      "text/plain": [
       "<Figure size 432x288 with 2 Axes>"
      ]
     },
     "metadata": {
      "needs_background": "light"
     },
     "output_type": "display_data"
    }
   ],
   "source": [
    "# size of cat\n",
    "a=2\n",
    "\n",
    "rho_cat = (coherent(N,a) + coherent(N,-a)).unit()\n",
    "\n",
    "# plot \n",
    "q_cat = qfunc(rho_cat, xvec, xvec, g=2)\n",
    "plt.imshow(q_cat, extent=[-alpha_max, alpha_max,-alpha_max, alpha_max])\n",
    "plt.colorbar();"
   ]
  },
  {
   "cell_type": "markdown",
   "id": "a3c47562-f571-4814-a7f3-d38fa1917d01",
   "metadata": {},
   "source": [
    "### P-function of thermal state\n",
    "\n",
    "We will use the fact that $P^\\text{th}_{n} = Q^\\text{th}_{n-1}$ [1]\n",
    "\n",
    "[1] P. Rice, [Chapter 10: Quasiprobability distributions](https://doi.org/10.1088/978-0-7503-1713-9ch10), An Introduction to Quantum Optics (2020) "
   ]
  },
  {
   "cell_type": "code",
   "execution_count": 111,
   "id": "b5ce9ff8-8565-4f57-b69a-3219f5d15ce8",
   "metadata": {},
   "outputs": [
    {
     "data": {
      "image/png": "[encoded data removed]",
      "text/plain": [
       "<Figure size 432x288 with 2 Axes>"
      ]
     },
     "metadata": {
      "needs_background": "light"
     },
     "output_type": "display_data"
    }
   ],
   "source": [
    "# mean number of thermal photons\n",
    "n = 5\n",
    "\n",
    "# note n-1 [1]\n",
    "rho_thermal = thermal_dm(N, n-1)\n",
    "\n",
    "# plot\n",
    "q_thermal = qfunc(rho_thermal, xvec, xvec, g=2)\n",
    "plt.imshow(q_thermal, extent=[-alpha_max, alpha_max,-alpha_max, alpha_max])\n",
    "plt.colorbar();"
   ]
  },
  {
   "cell_type": "markdown",
   "id": "60d39324-5c1e-470e-9424-31152275dc68",
   "metadata": {},
   "source": [
    "### Convolve:\n",
    "Simulate measurement of the cat state disturbed by thermal noise.\n",
    "\n",
    "Histogram = $\\int P^\\text{th}_n(\\alpha^* - \\beta^*) Q(\\beta)\\, d^2\\beta = \\int Q^\\text{th}_{n-1}(\\alpha^* - \\beta^*) Q(\\beta)\\, d^2\\beta$"
   ]
  },
  {
   "cell_type": "code",
   "execution_count": 112,
   "id": "4174d6a9-a2f1-4e33-a618-3413abf1f122",
   "metadata": {},
   "outputs": [
    {
     "data": {
      "image/png": "[encoded data removed]",
      "text/plain": [
       "<Figure size 432x288 with 2 Axes>"
      ]
     },
     "metadata": {
      "needs_background": "light"
     },
     "output_type": "display_data"
    }
   ],
   "source": [
    "# convolve\n",
    "q_conv = convolve(q_thermal, q_cat, mode='same')\n",
    "\n",
    "# normalize\n",
    "integral = np.trapz(np.trapz(q_conv,x=xvec), x=yvec)/np.pi\n",
    "q_conv_norm = q_conv/integral\n",
    "\n",
    "# plot\n",
    "plt.imshow(q_conv_norm)\n",
    "plt.colorbar()\n",
    "\n",
    "# reshape the \"noisy measurement data\"\n",
    "b = q_conv_norm.flatten()"
   ]
  },
  {
   "cell_type": "markdown",
   "id": "fc322766-509b-4410-90b7-5233064850ca",
   "metadata": {},
   "source": [
    "### Set up measurement operators"
   ]
  },
  {
   "cell_type": "markdown",
   "id": "c60c4304-d108-4084-9f88-f9a070bd2478",
   "metadata": {},
   "source": [
    "Noise adjusted:\n",
    "${\\tilde \\Pi^k}_n  = D(\\alpha_k) \\rho^\\text{th}_{n} D^\\dagger(\\alpha_k) $"
   ]
  },
  {
   "cell_type": "code",
   "execution_count": 113,
   "id": "76e547dd-dc1a-4985-94ed-7b2a65130232",
   "metadata": {},
   "outputs": [],
   "source": [
    "# Noisy measurement operator\n",
    "# n is the mean number of thermal photons\n",
    "def POVM_op(hilbert_size, beta, n):\n",
    "        D = displace(100, beta)\n",
    "        rho_h = thermal_dm(100, n)\n",
    "        op = D * rho_h * D.dag()\n",
    "        op = Qobj(op[:hilbert_size, :hilbert_size])\n",
    "        return op"
   ]
  },
  {
   "cell_type": "code",
   "execution_count": 114,
   "id": "77244bd8-0b27-42fb-b205-004c4f341c11",
   "metadata": {},
   "outputs": [
    {
     "name": "stderr",
     "output_type": "stream",
     "text": [
      "[Parallel(n_jobs=16)]: Using backend LokyBackend with 16 concurrent workers.\n",
      "[Parallel(n_jobs=16)]: Done  40 tasks      | elapsed:    3.6s\n",
      "[Parallel(n_jobs=16)]: Done 130 tasks      | elapsed:    4.8s\n",
      "[Parallel(n_jobs=16)]: Done 225 out of 225 | elapsed:    5.8s finished\n"
     ]
    }
   ],
   "source": [
    "X, Y = np.meshgrid(xvec, xvec)\n",
    "# flatten the grid of probe states into a 1D array\n",
    "betas = (X + 1j*Y).ravel()\n",
    "\n",
    "# Measurement operators\n",
    "Pis = Parallel(n_jobs=16, verbose=5)(delayed(POVM_op)(N, beta,n) for beta in betas)"
   ]
  },
  {
   "cell_type": "markdown",
   "id": "c8e070d2-be17-4ac7-8939-75206e215f2b",
   "metadata": {
    "tags": []
   },
   "source": [
    "### Construct the operator basis: \n",
    "The list `basis_dms` contains all $\\Omega_k$"
   ]
  },
  {
   "cell_type": "code",
   "execution_count": 115,
   "id": "a4ac1c2f-4f7d-4481-b10b-f2506f365fb6",
   "metadata": {},
   "outputs": [],
   "source": [
    "# construct vectors\n",
    "basis_vectors = []\n",
    "for i in range(N):\n",
    "    vector = fock(N, i)\n",
    "    basis_vectors.append(np.real(vector.full()))\n",
    "    \n",
    "# construct operators\n",
    "basis_dms = []\n",
    "for vector1 in basis_vectors:\n",
    "    for vector2 in basis_vectors:\n",
    "        dm = np.outer(vector1, vector2)\n",
    "        basis_dms.append(dm)"
   ]
  },
  {
   "cell_type": "markdown",
   "id": "a67f36d7-eda1-47cd-a12b-fe4b1f0c3bad",
   "metadata": {
    "tags": []
   },
   "source": [
    "### Construct the matrix A in $A\\vec\\rho=\\vec b$\n",
    "From `Pis` and `basis_dms`."
   ]
  },
  {
   "cell_type": "code",
   "execution_count": 116,
   "id": "d9460872-f8d2-4800-873f-1b907dd0e91f",
   "metadata": {},
   "outputs": [
    {
     "name": "stderr",
     "output_type": "stream",
     "text": [
      "[Parallel(n_jobs=16)]: Using backend MultiprocessingBackend with 16 concurrent workers.\n",
      "[Parallel(n_jobs=16)]: Done  48 tasks      | elapsed:    0.0s\n",
      "[Parallel(n_jobs=16)]: Done 528 tasks      | elapsed:    0.1s\n",
      "[Parallel(n_jobs=16)]: Done 8160 tasks      | elapsed:    0.3s\n",
      "[Parallel(n_jobs=16)]: Done 49858 tasks      | elapsed:    1.3s\n",
      "[Parallel(n_jobs=16)]: Done 50625 out of 50625 | elapsed:    1.4s finished\n"
     ]
    }
   ],
   "source": [
    "def func(index, a):\n",
    "    return np.trace(Pis[index[0]].full() @ basis_dms[index[1]])\n",
    "\n",
    "A = np.zeros((len(Pis), N*N), dtype=np.complex64)\n",
    "A_p = Parallel(n_jobs=16, verbose=5, backend=\"multiprocessing\")(delayed(func)(idx,a) for idx, a in np.ndenumerate(A))\n",
    "\n",
    "A = np.reshape(A_p, (len(Pis), N*N))"
   ]
  },
  {
   "cell_type": "markdown",
   "id": "7c3b1e14-0354-4b20-ac13-6dd73701b98e",
   "metadata": {
    "tags": []
   },
   "source": [
    "## Convex optimization"
   ]
  },
  {
   "cell_type": "markdown",
   "id": "5ae850fb-2d05-45f4-a78d-71a1a28277dc",
   "metadata": {},
   "source": [
    "Define the unknown state as a $N\\times N$ Hermitian matrix"
   ]
  },
  {
   "cell_type": "code",
   "execution_count": 117,
   "id": "801c27da-83ea-4aa5-8657-b1c48e9a1be2",
   "metadata": {},
   "outputs": [],
   "source": [
    "X = cp.Variable((N,N), hermitian=True)"
   ]
  },
  {
   "cell_type": "markdown",
   "id": "b6d0c8f6-663a-475e-af23-3bcf0e920ce4",
   "metadata": {},
   "source": [
    "Set the cost function to $\\|A\\vec\\rho - \\vec b\\|_2$ where the vectorized state is given by `cp.reshape(X, (N*N))`"
   ]
  },
  {
   "cell_type": "code",
   "execution_count": 118,
   "id": "f70fc27a-b4f0-4ba5-93c3-acc9e63226ca",
   "metadata": {},
   "outputs": [],
   "source": [
    "cost = cp.norm(A @ cp.vec(X) - b, 2);"
   ]
  },
  {
   "cell_type": "markdown",
   "id": "e2cd6599-22ee-4be4-8c1c-0e95c8611305",
   "metadata": {},
   "source": [
    "Set the trace constraint and positive-semidefinite constraint, respectively."
   ]
  },
  {
   "cell_type": "code",
   "execution_count": 119,
   "id": "32add4f0-dec8-4e6d-aefc-488f0dc9f7ca",
   "metadata": {},
   "outputs": [],
   "source": [
    "constraints = [cp.trace(X) == 1, X >> 0 ]"
   ]
  },
  {
   "cell_type": "markdown",
   "id": "78ec3b2e-2732-4da5-aa89-b393e70e7991",
   "metadata": {},
   "source": [
    "Set up and solve the problem!"
   ]
  },
  {
   "cell_type": "code",
   "execution_count": 120,
   "id": "612eb46a-69bc-467b-b2df-36a30f91f292",
   "metadata": {},
   "outputs": [
    {
     "name": "stdout",
     "output_type": "stream",
     "text": [
      "WARN: A->p (column pointers) not strictly increasing, column 346 empty\n",
      "WARN: A->p (column pointers) not strictly increasing, column 362 empty\n",
      "WARN: A->p (column pointers) not strictly increasing, column 378 empty\n",
      "WARN: A->p (column pointers) not strictly increasing, column 394 empty\n",
      "WARN: A->p (column pointers) not strictly increasing, column 410 empty\n",
      "WARN: A->p (column pointers) not strictly increasing, column 426 empty\n",
      "WARN: A->p (column pointers) not strictly increasing, column 442 empty\n",
      "WARN: A->p (column pointers) not strictly increasing, column 458 empty\n",
      "WARN: A->p (column pointers) not strictly increasing, column 474 empty\n",
      "WARN: A->p (column pointers) not strictly increasing, column 490 empty\n",
      "WARN: A->p (column pointers) not strictly increasing, column 506 empty\n",
      "WARN: A->p (column pointers) not strictly increasing, column 522 empty\n",
      "WARN: A->p (column pointers) not strictly increasing, column 538 empty\n",
      "WARN: A->p (column pointers) not strictly increasing, column 554 empty\n",
      "WARN: A->p (column pointers) not strictly increasing, column 570 empty\n"
     ]
    }
   ],
   "source": [
    "prob = cp.Problem(cp.Minimize(cost), constraints)\n",
    "prob.solve(verbose=False);\n",
    "\n",
    "# Assign the optimized state X to a Qobj.\n",
    "reconstructed_rho = Qobj(X.value)"
   ]
  },
  {
   "cell_type": "markdown",
   "id": "dcf293c6-b9c9-44c6-80fd-bd7be773c9c4",
   "metadata": {},
   "source": [
    "### Visualize results"
   ]
  },
  {
   "cell_type": "markdown",
   "id": "52bb7534-a058-4260-b16b-71f912b98220",
   "metadata": {},
   "source": [
    "Plot the reconstructed state and show the fidelity"
   ]
  },
  {
   "cell_type": "code",
   "execution_count": 121,
   "id": "d073e091-069f-4fb4-b101-18f59531b07d",
   "metadata": {},
   "outputs": [
    {
     "data": {
      "image/png": "[encoded data removed]",
      "text/plain": [
       "<Figure size 576x288 with 3 Axes>"
      ]
     },
     "metadata": {
      "needs_background": "light"
     },
     "output_type": "display_data"
    }
   ],
   "source": [
    "fig, ax = plot_wigner_fock_distribution(reconstructed_rho, alpha_max=alpha_max, colorbar=True)\n",
    "plt.title(\"Fidelity {:.4}\".format(fidelity(reconstructed_rho, rho_cat)**2));"
   ]
  },
  {
   "cell_type": "markdown",
   "id": "0ec27e23-bf78-4e31-8417-867e1690c0b6",
   "metadata": {},
   "source": [
    "Ideal state"
   ]
  },
  {
   "cell_type": "code",
   "execution_count": 122,
   "id": "7f1b673b-e0bf-4fc2-bdf0-03ea30f5576b",
   "metadata": {},
   "outputs": [
    {
     "data": {
      "image/png": "[encoded data removed]",
      "text/plain": [
       "<Figure size 576x288 with 3 Axes>"
      ]
     },
     "metadata": {
      "needs_background": "light"
     },
     "output_type": "display_data"
    }
   ],
   "source": [
    "fig, ax = plot_wigner_fock_distribution(rho_cat, alpha_max=alpha_max, colorbar=True)"
   ]
  },
  {
   "cell_type": "code",
   "execution_count": null,
   "id": "391a29df-b6bd-44c0-b301-1b0167aa1f6c",
   "metadata": {},
   "outputs": [],
   "source": []
  }
 ],
 "metadata": {
  "kernelspec": {
   "display_name": "Python 3 (ipykernel)",
   "language": "python",
   "name": "python3"
  },
  "language_info": {
   "codemirror_mode": {
    "name": "ipython",
    "version": 3
   },
   "file_extension": ".py",
   "mimetype": "text/x-python",
   "name": "python",
   "nbconvert_exporter": "python",
   "pygments_lexer": "ipython3",
   "version": "3.9.5"
  },
  "widgets": {
   "application/vnd.jupyter.widget-state+json": {
    "state": {},
    "version_major": 2,
    "version_minor": 0
   }
  }
 },
 "nbformat": 4,
 "nbformat_minor": 5
}
