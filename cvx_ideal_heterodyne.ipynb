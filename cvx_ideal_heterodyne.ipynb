{
 "cells": [
  {
   "cell_type": "code",
   "execution_count": 2,
   "id": "54a81c95-16ce-4d42-adcd-31871f2301a7",
   "metadata": {},
   "outputs": [],
   "source": [
    "import numpy as np\n",
    "\n",
    "import cvxpy as cp\n",
    "\n",
    "from qutip import coherent, ket2dm, Qobj, expect, fidelity, fock, fock_dm, displace, coherent_dm\n",
    "from qutip.visualization import plot_wigner_fock_distribution, plot_fock_distribution\n",
    "from qutip.wigner import qfunc\n",
    "\n",
    "from tqdm.auto import tqdm # progress bar\n",
    "\n",
    "import matplotlib.pyplot as plt\n",
    "from matplotlib import colors\n",
    "from joblib import Parallel, delayed"
   ]
  },
  {
   "cell_type": "markdown",
   "id": "1069f545-a3fe-4c62-9959-85995972d2b6",
   "metadata": {},
   "source": [
    "### Define Q-function measurement operators"
   ]
  },
  {
   "cell_type": "code",
   "execution_count": 3,
   "id": "ec778093-c30d-4c61-979e-1e05be629760",
   "metadata": {},
   "outputs": [],
   "source": [
    "def qfunc_ops(hilbert_size, beta):\n",
    "    \n",
    "    # need the larger Hilbert space to not get erroneous operators for large beta\n",
    "    op = coherent_dm(hilbert_size*2, beta)/np.pi\n",
    "    op = Qobj(op[:hilbert_size, :hilbert_size]) # truncate to wanted Hilbert space size\n",
    "        \n",
    "    return op"
   ]
  },
  {
   "cell_type": "markdown",
   "id": "ef5ccf6f-016b-45b2-bc7a-81a199a550b8",
   "metadata": {},
   "source": [
    "### Define a state $\\rho$ to test the tomography on\n",
    "Here a cat state $|\\psi\\rangle=\\dfrac{|\\alpha\\rangle+|-\\alpha\\rangle}{\\sqrt{2}}, \\quad \\alpha=2.$"
   ]
  },
  {
   "cell_type": "code",
   "execution_count": 13,
   "id": "d4246353-28ce-4384-8ecf-015e40d2f4ea",
   "metadata": {},
   "outputs": [
    {
     "data": {
      "image/png": "[encoded data removed]",
      "text/plain": [
       "<Figure size 720x360 with 2 Axes>"
      ]
     },
     "metadata": {
      "needs_background": "light"
     },
     "output_type": "display_data"
    }
   ],
   "source": [
    "# Fock space dimension\n",
    "N = 20\n",
    "\n",
    "# Coherent state amplitudes for test cat state\n",
    "alpha_range = 2\n",
    "alphas = np.array([alpha_range, -alpha_range])\n",
    "                  \n",
    "# Test-state \n",
    "psi = sum([coherent(N, a) for a in alphas])\n",
    "psi = psi.unit()\n",
    "rho = ket2dm(psi)\n",
    "\n",
    "alpha_max = 5 # setting the limits on the Wigner plot\n",
    "\n",
    "fig, ax = plt.subplots(1,2, figsize=(10, 5))\n",
    "plot_fock_distribution(rho, ax=ax[0])\n",
    "\n",
    "xvec = np.linspace(-alpha_max, alpha_max)\n",
    "yvec = xvec\n",
    "q = qfunc(rho, xvec, yvec, g=2)\n",
    "plt.imshow(q,extent=[-alpha_max, alpha_max,-alpha_max, alpha_max])\n",
    "plt.title(\"Test-state Q-function\");"
   ]
  },
  {
   "cell_type": "markdown",
   "id": "eb3bcd8e-7f1f-46c1-843b-012a22ad09fc",
   "metadata": {},
   "source": [
    "### Construct the operator basis: Fock basis\n",
    "The list `basis_dms` contains all $\\Omega_k$"
   ]
  },
  {
   "cell_type": "code",
   "execution_count": 8,
   "id": "712d6ca6-780e-4104-a003-edcabba22f26",
   "metadata": {},
   "outputs": [],
   "source": [
    "# construct vectors\n",
    "basis_vectors = []\n",
    "for i in range(N):\n",
    "    vector = fock(N, i)\n",
    "    basis_vectors.append(np.real(vector.full()))\n",
    "    \n",
    "# construct operators\n",
    "basis_dms = []\n",
    "for vector1 in basis_vectors:\n",
    "    for vector2 in basis_vectors:\n",
    "        dm = np.outer(vector1, vector2)\n",
    "        basis_dms.append(dm)"
   ]
  },
  {
   "cell_type": "markdown",
   "id": "ee59ea42-74a7-4d39-ba1d-d2bcf4bbeae2",
   "metadata": {},
   "source": [
    "### Measurement settings\n",
    "Define coherent probe states $|\\beta\\rangle$ on a square grid in phase space."
   ]
  },
  {
   "cell_type": "code",
   "execution_count": 16,
   "id": "091f5c09-cfb3-4c16-8f0e-db73029248b9",
   "metadata": {},
   "outputs": [],
   "source": [
    "# Maximum coherent state amplitude\n",
    "beta_max = 4\n",
    "\n",
    "# number of probes in the x/p direction\n",
    "nm = 15\n",
    "\n",
    "xvec_betas = np.linspace(-beta_max, beta_max, nm)\n",
    "yvec_betas = np.linspace(-beta_max, beta_max, nm)\n",
    "\n",
    "X, Y = np.meshgrid(xvec_betas, yvec_betas)\n",
    "\n",
    "# flatten the grid of probe states into a 1D array\n",
    "betas = (X + 1j*Y).ravel()"
   ]
  },
  {
   "cell_type": "markdown",
   "id": "963a374d-821b-4f61-8435-058c852b7ec4",
   "metadata": {},
   "source": [
    "Superpose the measurement grid on the Q-function just to check."
   ]
  },
  {
   "cell_type": "code",
   "execution_count": 17,
   "id": "3f9d39df-f3da-4285-b2ed-6e4cef8c9f39",
   "metadata": {},
   "outputs": [
    {
     "data": {
      "image/png": "[encoded data removed]",
      "text/plain": [
       "<Figure size 432x288 with 1 Axes>"
      ]
     },
     "metadata": {
      "needs_background": "light"
     },
     "output_type": "display_data"
    }
   ],
   "source": [
    "plt.imshow(q, extent=[-alpha_max, alpha_max,-alpha_max, alpha_max])\n",
    "plt.plot(betas.real, betas.imag, 'w.');"
   ]
  },
  {
   "cell_type": "markdown",
   "id": "05d5892f-361a-460f-81d6-99cd60b15ce5",
   "metadata": {},
   "source": [
    "#### Assign measurement operators $\\Pi$ with the measurement settings"
   ]
  },
  {
   "cell_type": "code",
   "execution_count": 18,
   "id": "2fa325fe-ad61-4273-b07e-722b0fd3ecca",
   "metadata": {},
   "outputs": [
    {
     "name": "stderr",
     "output_type": "stream",
     "text": [
      "[Parallel(n_jobs=16)]: Using backend MultiprocessingBackend with 16 concurrent workers.\n",
      "[Parallel(n_jobs=16)]: Done  48 tasks      | elapsed:    2.7s\n",
      "[Parallel(n_jobs=16)]: Done 178 tasks      | elapsed:    7.6s\n",
      "[Parallel(n_jobs=16)]: Done 225 out of 225 | elapsed:    9.7s finished\n"
     ]
    }
   ],
   "source": [
    "Pis = Parallel(n_jobs=16, verbose=5, backend=\"multiprocessing\")(delayed(qfunc_ops)(N,beta) for beta in betas)"
   ]
  },
  {
   "cell_type": "markdown",
   "id": "fd86621c-dd01-47f6-972e-b183270047ea",
   "metadata": {},
   "source": [
    "### Construct the matrix A in $A\\vec\\rho=\\vec b$\n",
    "From `Pis` and `basis_dms`."
   ]
  },
  {
   "cell_type": "code",
   "execution_count": 19,
   "id": "5c23cf89-c7b9-4710-86f9-ffc266292753",
   "metadata": {},
   "outputs": [
    {
     "name": "stderr",
     "output_type": "stream",
     "text": [
      "[Parallel(n_jobs=16)]: Using backend MultiprocessingBackend with 16 concurrent workers.\n",
      "[Parallel(n_jobs=16)]: Done  48 tasks      | elapsed:    0.0s\n",
      "[Parallel(n_jobs=16)]: Done 512 tasks      | elapsed:    0.1s\n",
      "[Parallel(n_jobs=16)]: Done 8160 tasks      | elapsed:    0.3s\n",
      "[Parallel(n_jobs=16)]: Done 84388 tasks      | elapsed:    1.3s\n",
      "[Parallel(n_jobs=16)]: Done 90000 out of 90000 | elapsed:    1.4s finished\n"
     ]
    }
   ],
   "source": [
    "def func(index, a):\n",
    "    return np.trace(Pis[index[0]].full() @ basis_dms[index[1]])\n",
    "\n",
    "A = np.zeros((len(Pis), N*N), dtype=np.complex64)\n",
    "A_p = Parallel(n_jobs=16, verbose=5, backend=\"multiprocessing\")(delayed(func)(idx,a) for idx, a in np.ndenumerate(A))\n",
    "\n",
    "A = np.reshape(A_p, (len(Pis), N*N))"
   ]
  },
  {
   "cell_type": "markdown",
   "id": "bac58e89-3050-4ef9-bacd-b05a49f496a7",
   "metadata": {},
   "source": [
    "### Construct simulated \"measurement results\" $\\vec b$"
   ]
  },
  {
   "cell_type": "code",
   "execution_count": 20,
   "id": "3cb5f5f8-d3c8-4d2a-a0d9-ad26ae4abe50",
   "metadata": {},
   "outputs": [],
   "source": [
    "b = expect(Pis, rho)\n",
    "b = np.array(b)"
   ]
  },
  {
   "cell_type": "markdown",
   "id": "7f13f243-b52d-463f-a8ee-21bb07938e69",
   "metadata": {},
   "source": [
    "## Convex optimization"
   ]
  },
  {
   "cell_type": "markdown",
   "id": "af997d0d-8a63-489d-b7ac-4e8b7c8ab318",
   "metadata": {},
   "source": [
    "Define the unknown state as a $N\\times N$ Hermitian matrix"
   ]
  },
  {
   "cell_type": "code",
   "execution_count": 21,
   "id": "cd6518c1-5118-48b7-8afe-2ebed4de6afe",
   "metadata": {},
   "outputs": [],
   "source": [
    "X = cp.Variable((N,N), hermitian=True)"
   ]
  },
  {
   "cell_type": "markdown",
   "id": "fe52802a-8803-47c3-aa31-57bbe3e3c673",
   "metadata": {},
   "source": [
    "Set the cost function to $\\|A\\vec\\rho - \\vec b\\|_2$ where the vectorized state is given by `cp.reshape(X, (N*N))`"
   ]
  },
  {
   "cell_type": "code",
   "execution_count": 22,
   "id": "eac4d262-41d1-454a-bc7f-2b95dd511772",
   "metadata": {},
   "outputs": [],
   "source": [
    "cost = cp.norm(A @ cp.reshape(X, (N*N)) - b, 2);"
   ]
  },
  {
   "cell_type": "markdown",
   "id": "47aeaa68-7562-4369-bec2-e7bf9174a42c",
   "metadata": {},
   "source": [
    "Set the trace constraint and positive-semidefinite constraint, respectively."
   ]
  },
  {
   "cell_type": "code",
   "execution_count": 23,
   "id": "56c28bb3-ffae-4d66-93c0-8eed971acb3e",
   "metadata": {},
   "outputs": [],
   "source": [
    "constraints = [cp.trace(X) == 1, X >> 0 ]"
   ]
  },
  {
   "cell_type": "markdown",
   "id": "1056bcb6-4573-4976-a2fe-dd3b3a07bcbe",
   "metadata": {},
   "source": [
    "Set up and solve the problem!"
   ]
  },
  {
   "cell_type": "code",
   "execution_count": 26,
   "id": "9fa1a1a1-9daa-472f-b6ce-7a55649fc7ff",
   "metadata": {},
   "outputs": [
    {
     "name": "stdout",
     "output_type": "stream",
     "text": [
      "WARN: A->p (column pointers) not strictly increasing, column 436 empty\n",
      "WARN: A->p (column pointers) not strictly increasing, column 457 empty\n",
      "WARN: A->p (column pointers) not strictly increasing, column 478 empty\n",
      "WARN: A->p (column pointers) not strictly increasing, column 499 empty\n",
      "WARN: A->p (column pointers) not strictly increasing, column 520 empty\n",
      "WARN: A->p (column pointers) not strictly increasing, column 541 empty\n",
      "WARN: A->p (column pointers) not strictly increasing, column 562 empty\n",
      "WARN: A->p (column pointers) not strictly increasing, column 583 empty\n",
      "WARN: A->p (column pointers) not strictly increasing, column 604 empty\n",
      "WARN: A->p (column pointers) not strictly increasing, column 625 empty\n",
      "WARN: A->p (column pointers) not strictly increasing, column 646 empty\n",
      "WARN: A->p (column pointers) not strictly increasing, column 667 empty\n",
      "WARN: A->p (column pointers) not strictly increasing, column 688 empty\n",
      "WARN: A->p (column pointers) not strictly increasing, column 709 empty\n",
      "WARN: A->p (column pointers) not strictly increasing, column 730 empty\n",
      "WARN: A->p (column pointers) not strictly increasing, column 751 empty\n",
      "WARN: A->p (column pointers) not strictly increasing, column 772 empty\n",
      "WARN: A->p (column pointers) not strictly increasing, column 793 empty\n",
      "WARN: A->p (column pointers) not strictly increasing, column 814 empty\n",
      "WARN: A->p (column pointers) not strictly increasing, column 835 empty\n"
     ]
    }
   ],
   "source": [
    "prob = cp.Problem(cp.Minimize(cost), constraints)\n",
    "prob.solve();"
   ]
  },
  {
   "cell_type": "code",
   "execution_count": 27,
   "id": "380f4245-4df7-4d84-b6ef-7172e88e9e13",
   "metadata": {},
   "outputs": [],
   "source": [
    "# Assign the optimized state X to a Qobj.\n",
    "\n",
    "reconstructed_rho = Qobj(X.value)"
   ]
  },
  {
   "cell_type": "markdown",
   "id": "ac3c0990-7778-4067-aa72-5b6eb580699f",
   "metadata": {},
   "source": [
    "### Visualize results"
   ]
  },
  {
   "cell_type": "markdown",
   "id": "4c7a0c35-68a7-4238-a80f-250e36818b7a",
   "metadata": {},
   "source": [
    "Plot the reconstructed state and show the fidelity"
   ]
  },
  {
   "cell_type": "code",
   "execution_count": 37,
   "id": "12aa8fb4-91b8-4c93-99d2-8d426bcdf155",
   "metadata": {},
   "outputs": [
    {
     "data": {
      "image/png": "[encoded data removed]",
      "text/plain": [
       "<Figure size 576x288 with 2 Axes>"
      ]
     },
     "metadata": {
      "needs_background": "light"
     },
     "output_type": "display_data"
    }
   ],
   "source": [
    "fig, ax = plot_wigner_fock_distribution(reconstructed_rho, alpha_max=alpha_max)\n",
    "ax[0].set_title(\"Reconstructed state\");\n",
    "\n",
    "plt.title(\"Fidelity {:.3}\".format(fidelity(reconstructed_rho, Qobj(rho))**2));\n"
   ]
  },
  {
   "cell_type": "code",
   "execution_count": 36,
   "id": "7724c2b4-215a-40c7-8c15-ae4fe388d009",
   "metadata": {},
   "outputs": [
    {
     "data": {
      "image/png": "[encoded data removed]",
      "text/plain": [
       "<Figure size 720x360 with 2 Axes>"
      ]
     },
     "metadata": {
      "needs_background": "light"
     },
     "output_type": "display_data"
    }
   ],
   "source": [
    "q = qfunc(Qobj(reconstructed_rho), xvec_betas, xvec_betas, g=2)\n",
    "fig, ax = plt.subplots(1, 2, figsize=(10, 5))\n",
    "\n",
    "data_img = ax[0].imshow(b.reshape((nm, nm)), cmap=\"Blues\",extent=[-beta_max, beta_max, -beta_max, beta_max])\n",
    "ax[0].set_title(\"Data\")\n",
    "#plt.colorbar(data_img, ax=ax[0], shrink=0.75)\n",
    "\n",
    "reconst_img = ax[1].imshow(q, cmap=\"Blues\", extent=[-beta_max, beta_max, -beta_max, beta_max])\n",
    "ax[1].set_title(\"Reconstructed Fidelity {:.3}\".format(fidelity(reconstructed_rho, Qobj(rho))));\n",
    "#plt.colorbar(reconst_img, ax=ax[1], shrink=0.75);"
   ]
  },
  {
   "cell_type": "code",
   "execution_count": 174,
   "id": "10f053d0-6885-4a73-9b1c-c5d27682a0c8",
   "metadata": {},
   "outputs": [
    {
     "data": {
      "text/plain": [
       "0.9999924343642665"
      ]
     },
     "execution_count": 174,
     "metadata": {},
     "output_type": "execute_result"
    }
   ],
   "source": [
    "fidelity(reconstructed_rho, Qobj(rho))"
   ]
  },
  {
   "cell_type": "code",
   "execution_count": null,
   "id": "37886ec3-cb6f-40ea-a1eb-ee9f255464cb",
   "metadata": {},
   "outputs": [],
   "source": []
  }
 ],
 "metadata": {
  "kernelspec": {
   "display_name": "Python 3 (ipykernel)",
   "language": "python",
   "name": "python3"
  },
  "language_info": {
   "codemirror_mode": {
    "name": "ipython",
    "version": 3
   },
   "file_extension": ".py",
   "mimetype": "text/x-python",
   "name": "python",
   "nbconvert_exporter": "python",
   "pygments_lexer": "ipython3",
   "version": "3.9.5"
  },
  "widgets": {
   "application/vnd.jupyter.widget-state+json": {
    "state": {},
    "version_major": 2,
    "version_minor": 0
   }
  }
 },
 "nbformat": 4,
 "nbformat_minor": 5
}
